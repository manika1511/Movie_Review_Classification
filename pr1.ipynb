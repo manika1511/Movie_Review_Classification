{
 "cells": [
  {
   "cell_type": "code",
   "execution_count": 1,
   "metadata": {},
   "outputs": [
    {
     "name": "stdout",
     "output_type": "stream",
     "text": [
      "[nltk_data] Downloading package wordnet to /Users/manika/nltk_data...\n",
      "[nltk_data]   Package wordnet is already up-to-date!\n"
     ]
    },
    {
     "data": {
      "text/plain": [
       "True"
      ]
     },
     "execution_count": 1,
     "metadata": {},
     "output_type": "execute_result"
    }
   ],
   "source": [
    "import re\n",
    "import pandas as pd\n",
    "import numpy as np\n",
    "import scipy\n",
    "from scipy import sparse\n",
    "from collections import defaultdict\n",
    "import nltk\n",
    "nltk.download('wordnet')"
   ]
  },
  {
   "cell_type": "code",
   "execution_count": 4,
   "metadata": {
    "collapsed": true
   },
   "outputs": [],
   "source": [
    "#read the train dataset\n",
    "train = pd.read_csv(\n",
    "    filepath_or_buffer='./train.dat', \n",
    "    header=None, \n",
    "    sep='\\n')\n",
    "\n",
    "#separate reviews from classes\n",
    "vals = train.iloc[:,:].values\n",
    "\n",
    "train_reviews=[]\n",
    "train_labels=[]\n",
    "\n",
    "for val in vals:\n",
    "    train_labels.append(val[0][0:2])\n",
    "    train_reviews.append(val[0][2:])\n",
    "    \n",
    "#read the test dataset\n",
    "test = pd.read_csv(\n",
    "    filepath_or_buffer='./test.dat', \n",
    "    header=None, \n",
    "    sep='\\n')\n",
    "\n",
    "vals = test.iloc[:,:].values\n",
    "\n",
    "#separate reviews \n",
    "test_reviews=[]\n",
    "for val in vals:\n",
    "    test_reviews.append(val[0])"
   ]
  },
  {
   "cell_type": "code",
   "execution_count": 5,
   "metadata": {
    "collapsed": true
   },
   "outputs": [],
   "source": [
    "# remove html tags and numbers\n",
    "def clean_review(review):\n",
    "    #removing html tags\n",
    "    cleanReview = re.sub(re.compile('<.*?>'), '', review)\n",
    "    \n",
    "    #removing digits\n",
    "    cleanReview = re.sub(re.compile(r'\\d.*?\\d+'),'', cleanReview)\n",
    "    #remove urls\n",
    "    cleanReview = re.sub(r'http\\S+', ' ', cleanReview)\n",
    "    #remove punctuation except apostrophe\n",
    "    cleanReview = re.sub(ur\"[^\\w\\d'\\s]+\",' ',cleanReview)\n",
    "    cleanReview = re.sub(r'(^[ \\t]+|[ \\t]+(?=:))', '', cleanReview, flags=re.M)\n",
    "    \n",
    "    return cleanReview"
   ]
  },
  {
   "cell_type": "code",
   "execution_count": 6,
   "metadata": {
    "collapsed": true
   },
   "outputs": [],
   "source": [
    "cleanedReviewsTrain = []\n",
    "for review in train_reviews:\n",
    "    cleanedReviewsTrain.append(clean_review(review))"
   ]
  },
  {
   "cell_type": "code",
   "execution_count": 7,
   "metadata": {
    "collapsed": true
   },
   "outputs": [],
   "source": [
    "#stemming and Lemmatization of reviews\n",
    "from nltk.stem import PorterStemmer, WordNetLemmatizer\n",
    "\n",
    "def stem_review(review):\n",
    "    port = PorterStemmer()\n",
    "    return \" \".join([port.stem(i) for i in review.split()])\n",
    "\n",
    "def lemmatized_review(review):\n",
    "    wnl = WordNetLemmatizer()\n",
    "    return \" \".join([wnl.lemmatize(i, 'v') for i in review.split()])"
   ]
  },
  {
   "cell_type": "code",
   "execution_count": 8,
   "metadata": {
    "collapsed": true
   },
   "outputs": [],
   "source": [
    "stemmedReviewsTrain=[]\n",
    "for review in cleanedReviewsTrain:\n",
    "    stemmedReviewsTrain.append(stem_review(review))\n",
    "    \n",
    "lemmatizedReviewsTrain=[]\n",
    "for review in stemmedReviewsTrain:\n",
    "    lemmatizedReviewsTrain.append(lemmatized_review(review))"
   ]
  },
  {
   "cell_type": "code",
   "execution_count": 9,
   "metadata": {
    "collapsed": true
   },
   "outputs": [],
   "source": [
    "#lowercase the reviews\n",
    "def lower_case(reviews):\n",
    "    return [l.lower() for l in reviews]\n",
    "\n",
    "#split the reviews into words\n",
    "def split_reviews(reviews):\n",
    "    return [l.split() for l in reviews]"
   ]
  },
  {
   "cell_type": "code",
   "execution_count": 10,
   "metadata": {
    "collapsed": true
   },
   "outputs": [],
   "source": [
    "# transform train reviews into lists of lowercase words\n",
    "lowerReviewsTrain = lower_case(lemmatizedReviewsTrain)\n",
    "splitReviewsTrain = split_reviews(lowerReviewsTrain)"
   ]
  },
  {
   "cell_type": "code",
   "execution_count": 11,
   "metadata": {
    "collapsed": true
   },
   "outputs": [],
   "source": [
    "# remove words with length < 4\n",
    "def filterLen(reviews, minlen):\n",
    "    r\"\"\" filter out terms that are too short. \n",
    "    docs is a list of lists, each inner list is a document represented as a list of words\n",
    "    minlen is the minimum length of the word to keep\n",
    "    \"\"\"\n",
    "    return [t for t in reviews if len(t) >= minlen ]"
   ]
  },
  {
   "cell_type": "code",
   "execution_count": 12,
   "metadata": {
    "collapsed": true
   },
   "outputs": [],
   "source": [
    "filteredReviewsTrain=[]\n",
    "for review in splitReviewsTrain:\n",
    "    filteredReviewsTrain.append(' '.join(filterLen(review, 4)))"
   ]
  },
  {
   "cell_type": "code",
   "execution_count": 16,
   "metadata": {
    "collapsed": true
   },
   "outputs": [],
   "source": [
    "from  sklearn.feature_extraction.text import TfidfVectorizer\n",
    "\n",
    "#create csr matrix for train set\n",
    "matrix_train = TfidfVectorizer(norm='l2', ngram_range=(1, 3))\n",
    "csrTrain = matrix_train.fit_transform(filteredReviewsTrain)"
   ]
  },
  {
   "cell_type": "code",
   "execution_count": 17,
   "metadata": {},
   "outputs": [
    {
     "data": {
      "text/plain": [
       "(25000, 4064519)"
      ]
     },
     "execution_count": 17,
     "metadata": {},
     "output_type": "execute_result"
    }
   ],
   "source": [
    "csrTrain.shape"
   ]
  },
  {
   "cell_type": "code",
   "execution_count": 18,
   "metadata": {
    "collapsed": true
   },
   "outputs": [],
   "source": [
    "cleanedReviewsTest = []\n",
    "for review in test_reviews:\n",
    "    cleanedReviewsTest.append(clean_review(review))"
   ]
  },
  {
   "cell_type": "code",
   "execution_count": 19,
   "metadata": {
    "collapsed": true
   },
   "outputs": [],
   "source": [
    "#stemming and lemmatization of reviews\n",
    "stemmedReviewsTest=[]\n",
    "for review in cleanedReviewsTest:\n",
    "    stemmedReviewsTest.append(stem_review(review))\n",
    "    \n",
    "lemmatizedReviewsTest=[]\n",
    "for review in stemmedReviewsTest:\n",
    "    lemmatizedReviewsTest.append(lemmatized_review(review))"
   ]
  },
  {
   "cell_type": "code",
   "execution_count": 20,
   "metadata": {
    "collapsed": true
   },
   "outputs": [],
   "source": [
    "# transform test reviews into lists of lowercase words\n",
    "lowerReviewsTest = lower_case(lemmatizedReviewsTest)\n",
    "splitReviewsTest = split_reviews(lowerReviewsTest)"
   ]
  },
  {
   "cell_type": "code",
   "execution_count": 21,
   "metadata": {
    "collapsed": true
   },
   "outputs": [],
   "source": [
    "#filter the small length words\n",
    "filteredReviewsTest=[]\n",
    "for review in splitReviewsTest:\n",
    "    filteredReviewsTest.append(' '.join(filterLen(review, 4)))"
   ]
  },
  {
   "cell_type": "code",
   "execution_count": 25,
   "metadata": {
    "collapsed": true
   },
   "outputs": [],
   "source": [
    "#create csr matrix for test set\n",
    "csrTest = matrix_train.transform(filteredReviewsTest)"
   ]
  },
  {
   "cell_type": "code",
   "execution_count": 27,
   "metadata": {},
   "outputs": [
    {
     "data": {
      "text/plain": [
       "(25000, 4064519)"
      ]
     },
     "execution_count": 27,
     "metadata": {},
     "output_type": "execute_result"
    }
   ],
   "source": [
    "csrTest.shape"
   ]
  },
  {
   "cell_type": "code",
   "execution_count": 29,
   "metadata": {
    "collapsed": true
   },
   "outputs": [],
   "source": [
    "#calculate similarity of train and test\n",
    "similarity_matrix = np.dot(csrTest, csrTrain.T)"
   ]
  },
  {
   "cell_type": "code",
   "execution_count": 30,
   "metadata": {
    "collapsed": true
   },
   "outputs": [],
   "source": [
    "#convert csr to numpy array\n",
    "similarity_array = similarity_matrix.toarray()"
   ]
  },
  {
   "cell_type": "code",
   "execution_count": 31,
   "metadata": {},
   "outputs": [
    {
     "data": {
      "text/plain": [
       "(25000, 25000)"
      ]
     },
     "execution_count": 31,
     "metadata": {},
     "output_type": "execute_result"
    }
   ],
   "source": [
    "similarity_array.shape"
   ]
  },
  {
   "cell_type": "code",
   "execution_count": 37,
   "metadata": {
    "collapsed": true
   },
   "outputs": [],
   "source": [
    "#find k- most similar reviews to every review\n",
    "def kNearestNeighbours(array, k):\n",
    "    return [np.argpartition(review, -k)[-k:] for review in similarity_array]\n",
    "\n",
    "indices = kNearestNeighbours(similarity_array, 200)\n",
    "\n",
    "#predict the output using weighted average\n",
    "def predicted_values(indices):\n",
    "    count = 0\n",
    "    predicted_values = []\n",
    "\n",
    "    for row in indices:\n",
    "        values = [int(train_labels[i]) for i in row]\n",
    "        weights = [similarity_array[count][i] for i in row]\n",
    "        if np.sum(weights != 0):\n",
    "            weighted_average = np.ma.average(values, weights=weights)\n",
    "        if weighted_average > 0:\n",
    "            predicted_values.append('+1')\n",
    "        else:\n",
    "            predicted_values.append('-1')\n",
    "        count = count + 1\n",
    "\n",
    "    f = open('prediction.dat','w')\n",
    "    for prediction in predicted_values:\n",
    "        print >>f, prediction\n",
    "    f.close()\n",
    "    \n",
    "predicted_values(indices)"
   ]
  }
 ],
 "metadata": {
  "kernelspec": {
   "display_name": "Python 3",
   "language": "python",
   "name": "python3"
  },
  "language_info": {
   "codemirror_mode": {
    "name": "ipython",
    "version": 3
   },
   "file_extension": ".py",
   "mimetype": "text/x-python",
   "name": "python",
   "nbconvert_exporter": "python",
   "pygments_lexer": "ipython3",
   "version": "3.6.2"
  }
 },
 "nbformat": 4,
 "nbformat_minor": 2
}
